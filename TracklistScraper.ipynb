{
 "cells": [
  {
   "cell_type": "code",
   "execution_count": 8,
   "metadata": {},
   "outputs": [],
   "source": [
    "from bs4 import BeautifulSoup\n",
    "import pandas as pd\n",
    "import requests"
   ]
  },
  {
   "cell_type": "code",
   "execution_count": 9,
   "metadata": {},
   "outputs": [],
   "source": [
    "headers = {'User-Agent': 'Mozilla/5.0'}\n",
    "page_link  = 'https://www.1001tracklists.com/tracklist/1sy5yvb9/neptune-project-belfast-music-production-academy-guestmix-belfast-united-kingdom-2017-07-30.html'\n",
    "page_response = requests.get(page_link, headers=headers)\n",
    "soup = BeautifulSoup(page_response.content, \"html.parser\")"
   ]
  },
  {
   "cell_type": "code",
   "execution_count": 10,
   "metadata": {},
   "outputs": [],
   "source": [
    "trackNumbers = []\n",
    "trackNames = []\n",
    "artistNames = []"
   ]
  },
  {
   "cell_type": "code",
   "execution_count": 11,
   "metadata": {},
   "outputs": [],
   "source": [
    "trackNamesSoup = soup.find_all(\"div\", class_=\"tlToogleData\")\n",
    "artistNamesSoup = soup.find_all(\"meta\", itemprop=\"byArtist\")"
   ]
  },
  {
   "cell_type": "code",
   "execution_count": 12,
   "metadata": {
    "scrolled": true
   },
   "outputs": [
    {
     "name": "stdout",
     "output_type": "stream",
     "text": [
      "1. Tiësto - Magikal Circus\n",
      "2. Ernesto vs. Bastian ft. Susana - Dark Side Of The Moon (Dogzilla Pure Filth Mix)\n",
      "3. Solar Movement - Under The Sun\n",
      "4. Atlantis vs. Avatar ft. Miriam Stockley - Fiji (Lange Remix)\n",
      "5. Commander Tom & John Askew vs. Way Out West - IntensifEYE (Neptune Project Mashup)\n",
      "6. Matt Darey pres. Li Kwan - Point Zero (Lost Tribe 2004 Remake)\n",
      "7. Neptune Project - A Sign From Above\n",
      "8. Tiësto - Urban Train (Cosmic Gate Remix)\n",
      "9. The Noble Six - Firewalker\n",
      "10. Paul van Dyk ft. Second Sun - Crush (Neptune Project Remix)\n",
      "11. Chakra - Home (Above & Beyond Remix)\n",
      "12. Firewall - Sincere (Smith & Pledger 2005 Remix)\n",
      "13. Above & Beyond pres. Tranquility Base - Oceanic\n",
      "14. Ronski Speed & Stoneface & Terminal - Drowning Sunlight\n",
      "15. Solarstone - Solarcoaster (Midway Remix)\n",
      "16. Junk Project - Composure (Solarstone Remix)\n",
      "17. Neptune Project - Proteus\n",
      "18. The Thrillseekers - New Life (Mike Koglin 2007 Remix)\n",
      "19. Humate - Love Stimulation (Oliver Lieb Softmix)\n",
      "20. Mike Koglin - 1:1.618 (Pulser Mix)\n",
      "21. Fred Baker vs. Nyram - Confirmation\n",
      "22. Above & Beyond pres. OceanLab - Satellite (Original Above & Beyond Mix)\n",
      "23. Neptune Project ft. Polly Strange - It Turns For You (The Noble Six Remix)\n",
      "24. The Thrillseekers & York ft. Asheni - Daydream (Will Atkinson Dreamy Mix)\n",
      "25. Jan Johnston - Flesh (Tiësto Remix)\n",
      "26. Solid Globe - Sahara vs. North Pole (Alex M.O.R.P.H. Remix)\n",
      "27. Tiësto & Armin van Buuren pres. Major League - Wonder (Transa Remix)\n",
      "28. Push - Till We Meet Again\n",
      "29. UMEK vs. Ramirez - Hablando (Neptune Project Highlander Rework)\n",
      "30. Shadowrider - Blue Horizon (Giuseppe Ottaviani Remix)\n",
      "31. John O'Callaghan ft. Lo-Fi Sugar - Never Fade Away (Giuseppe Ottaviani Remix)\n",
      "32. Mr Sam ft. Kirsty Hawkshaw - Insight (Aira Force Remix)\n",
      "33. Luminary - Amsterdam (Super8 & Tab Remix)\n",
      "34. Sinead O'Connor - Troy (Push Remix)\n",
      "35. Andain - Summer Calling (Airwave Club Mix)\n",
      "36. Blank & Jones ft. Bobo - Perfect Silence (E-Craig 212 Remix)\n",
      "37. P.O.S. vs. The Blizzard & Maya Angelou - Remember Courage vs. Metanoia (The Blizzard Mashup)\n",
      "38. Above & Beyond pres. OceanLab - Secret\n",
      "39. Hans Zimmer - Interstellar (Main Theme)\n",
      "40. Alan Watts - What If Money Was No Object?\n"
     ]
    }
   ],
   "source": [
    "for (i, trackNameItem) in enumerate(trackNamesSoup):\n",
    "    trackNumbers.append(i+1)\n",
    "    trackName = trackNameItem.meta['content']\n",
    "    print(str(i+1) + str(\". \") + trackName)\n",
    "    trackNames.append(trackName)"
   ]
  },
  {
   "cell_type": "code",
   "execution_count": 13,
   "metadata": {},
   "outputs": [
    {
     "name": "stdout",
     "output_type": "stream",
     "text": [
      "Tiësto\n",
      "Ernesto vs. Bastian\n",
      "Solar Movement\n",
      "Atlantis vs. Avatar\n",
      "Commander Tom & John Askew vs. Way Out West\n",
      "Li Kwan\n",
      "Neptune Project\n",
      "Tiësto\n",
      "The Noble Six\n",
      "Paul van Dyk\n",
      "Chakra\n",
      "Firewall\n",
      "Tranquility Base\n",
      "Ronski Speed & Stoneface & Terminal\n",
      "Solarstone\n",
      "Junk Project\n",
      "Neptune Project\n",
      "The Thrillseekers\n",
      "Humate\n",
      "Mike Koglin\n",
      "Fred Baker vs. Nyram\n",
      "Above & Beyond pres. OceanLab\n",
      "Neptune Project\n",
      "The Thrillseekers & York\n",
      "Jan Johnston\n",
      "Solid Globe\n",
      "Tiësto & Armin van Buuren pres. Major League\n",
      "Push\n",
      "UMEK vs. Ramirez\n",
      "Shadowrider\n",
      "John O'Callaghan\n",
      "Mr Sam\n",
      "Luminary\n",
      "Sinead O'Connor\n",
      "Andain\n",
      "Blank & Jones\n",
      "P.O.S. vs. The Blizzard & Maya Angelou\n",
      "Above & Beyond pres. OceanLab\n",
      "Hans Zimmer\n",
      "Alan Watts\n"
     ]
    }
   ],
   "source": [
    "for artistNameItem in artistNamesSoup:\n",
    "    artistName = artistNameItem[\"content\"]\n",
    "    print(artistName)\n",
    "    artistNames.append(artistName)"
   ]
  },
  {
   "cell_type": "code",
   "execution_count": 14,
   "metadata": {},
   "outputs": [],
   "source": [
    "df = pd.DataFrame({'Track Number': trackNumbers, 'Track Name': trackNames, 'Artist': artistNames})"
   ]
  },
  {
   "cell_type": "code",
   "execution_count": 15,
   "metadata": {},
   "outputs": [
    {
     "name": "stdout",
     "output_type": "stream",
     "text": [
      "    Track Number                                         Track Name  \\\n",
      "0              1                            Tiësto - Magikal Circus   \n",
      "1              2  Ernesto vs. Bastian ft. Susana - Dark Side Of ...   \n",
      "2              3                     Solar Movement - Under The Sun   \n",
      "3              4  Atlantis vs. Avatar ft. Miriam Stockley - Fiji...   \n",
      "4              5  Commander Tom & John Askew vs. Way Out West - ...   \n",
      "5              6  Matt Darey pres. Li Kwan - Point Zero (Lost Tr...   \n",
      "6              7                Neptune Project - A Sign From Above   \n",
      "7              8           Tiësto - Urban Train (Cosmic Gate Remix)   \n",
      "8              9                         The Noble Six - Firewalker   \n",
      "9             10  Paul van Dyk ft. Second Sun - Crush (Neptune P...   \n",
      "10            11               Chakra - Home (Above & Beyond Remix)   \n",
      "11            12    Firewall - Sincere (Smith & Pledger 2005 Remix)   \n",
      "12            13    Above & Beyond pres. Tranquility Base - Oceanic   \n",
      "13            14  Ronski Speed & Stoneface & Terminal - Drowning...   \n",
      "14            15           Solarstone - Solarcoaster (Midway Remix)   \n",
      "15            16        Junk Project - Composure (Solarstone Remix)   \n",
      "16            17                          Neptune Project - Proteus   \n",
      "17            18  The Thrillseekers - New Life (Mike Koglin 2007...   \n",
      "18            19    Humate - Love Stimulation (Oliver Lieb Softmix)   \n",
      "19            20                 Mike Koglin - 1:1.618 (Pulser Mix)   \n",
      "20            21                Fred Baker vs. Nyram - Confirmation   \n",
      "21            22  Above & Beyond pres. OceanLab - Satellite (Ori...   \n",
      "22            23  Neptune Project ft. Polly Strange - It Turns F...   \n",
      "23            24  The Thrillseekers & York ft. Asheni - Daydream...   \n",
      "24            25                Jan Johnston - Flesh (Tiësto Remix)   \n",
      "25            26  Solid Globe - Sahara vs. North Pole (Alex M.O....   \n",
      "26            27  Tiësto & Armin van Buuren pres. Major League -...   \n",
      "27            28                          Push - Till We Meet Again   \n",
      "28            29  UMEK vs. Ramirez - Hablando (Neptune Project H...   \n",
      "29            30  Shadowrider - Blue Horizon (Giuseppe Ottaviani...   \n",
      "30            31  John O'Callaghan ft. Lo-Fi Sugar - Never Fade ...   \n",
      "31            32  Mr Sam ft. Kirsty Hawkshaw - Insight (Aira For...   \n",
      "32            33          Luminary - Amsterdam (Super8 & Tab Remix)   \n",
      "33            34                Sinead O'Connor - Troy (Push Remix)   \n",
      "34            35         Andain - Summer Calling (Airwave Club Mix)   \n",
      "35            36  Blank & Jones ft. Bobo - Perfect Silence (E-Cr...   \n",
      "36            37  P.O.S. vs. The Blizzard & Maya Angelou - Remem...   \n",
      "37            38             Above & Beyond pres. OceanLab - Secret   \n",
      "38            39            Hans Zimmer - Interstellar (Main Theme)   \n",
      "39            40          Alan Watts - What If Money Was No Object?   \n",
      "\n",
      "                                          Artist  \n",
      "0                                         Tiësto  \n",
      "1                            Ernesto vs. Bastian  \n",
      "2                                 Solar Movement  \n",
      "3                            Atlantis vs. Avatar  \n",
      "4    Commander Tom & John Askew vs. Way Out West  \n",
      "5                                        Li Kwan  \n",
      "6                                Neptune Project  \n",
      "7                                         Tiësto  \n",
      "8                                  The Noble Six  \n",
      "9                                   Paul van Dyk  \n",
      "10                                        Chakra  \n",
      "11                                      Firewall  \n",
      "12                              Tranquility Base  \n",
      "13           Ronski Speed & Stoneface & Terminal  \n",
      "14                                    Solarstone  \n",
      "15                                  Junk Project  \n",
      "16                               Neptune Project  \n",
      "17                             The Thrillseekers  \n",
      "18                                        Humate  \n",
      "19                                   Mike Koglin  \n",
      "20                          Fred Baker vs. Nyram  \n",
      "21                 Above & Beyond pres. OceanLab  \n",
      "22                               Neptune Project  \n",
      "23                      The Thrillseekers & York  \n",
      "24                                  Jan Johnston  \n",
      "25                                   Solid Globe  \n",
      "26  Tiësto & Armin van Buuren pres. Major League  \n",
      "27                                          Push  \n",
      "28                              UMEK vs. Ramirez  \n",
      "29                                   Shadowrider  \n",
      "30                              John O'Callaghan  \n",
      "31                                        Mr Sam  \n",
      "32                                      Luminary  \n",
      "33                               Sinead O'Connor  \n",
      "34                                        Andain  \n",
      "35                                 Blank & Jones  \n",
      "36        P.O.S. vs. The Blizzard & Maya Angelou  \n",
      "37                 Above & Beyond pres. OceanLab  \n",
      "38                                   Hans Zimmer  \n",
      "39                                    Alan Watts  \n"
     ]
    }
   ],
   "source": [
    "print(df)"
   ]
  },
  {
   "cell_type": "code",
   "execution_count": 16,
   "metadata": {},
   "outputs": [],
   "source": [
    "df.to_csv('tracklist.csv', sep=',', index=False)"
   ]
  }
 ],
 "metadata": {
  "kernelspec": {
   "display_name": "Python 3",
   "language": "python",
   "name": "python3"
  },
  "language_info": {
   "codemirror_mode": {
    "name": "ipython",
    "version": 3
   },
   "file_extension": ".py",
   "mimetype": "text/x-python",
   "name": "python",
   "nbconvert_exporter": "python",
   "pygments_lexer": "ipython3",
   "version": "3.6.7"
  }
 },
 "nbformat": 4,
 "nbformat_minor": 2
}
